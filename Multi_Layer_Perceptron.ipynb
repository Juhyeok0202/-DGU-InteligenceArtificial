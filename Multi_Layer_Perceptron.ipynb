{
 "cells": [
  {
   "metadata": {},
   "cell_type": "markdown",
   "source": [
    "# 데이터 정의\n",
    "\n",
    "|  x1    |   x2    |  y  |\n",
    "|:-------:|:-------:|:---:|\n",
    "| 0.8147  | 0.8576  |  1  |\n",
    "| 0.9058  | 0.9706  |  1  |\n",
    "| 0.1270  | 0.2572  |  0  |\n",
    "| 0.9134  | 0.8854  |  1  |\n",
    "| 0.6324  | 0.8003  |  0  |\n",
    "| 0.0975  | 0.1419  |  0  |\n",
    "| 0.2785  | 0.4218  |  0  |\n",
    "| 0.5469  | 0.9157  |  1  |\n",
    "| 0.9575  | 0.7922  |  0  |\n",
    "| 0.9649  | 0.9595  |  1  |\n"
   ],
   "id": "12771e5cac249e50"
  },
  {
   "cell_type": "code",
   "id": "initial_id",
   "metadata": {
    "collapsed": true,
    "ExecuteTime": {
     "end_time": "2024-12-02T05:05:35.315198Z",
     "start_time": "2024-12-02T05:05:35.294971Z"
    }
   },
   "source": [
    "# 데이터 정의\n",
    "x1 = [\n",
    "    0.8147, 0.9085, 0.127, 0.9134, 0.6324, 0.0975, 0.2785, 0.5469, 0.9575, 0.9649\n",
    "]\n",
    "x2 = [\n",
    "    0.8576, 0.9706, 0.2572, 0.8854, 0.8003, 0.1419, 0.4218, 0.9157, 0.7922, 0.9595\n",
    "]\n",
    "\n",
    "y = [1, 1, 0, 1, 0, 0, 0, 1, 0, 1]"
   ],
   "outputs": [],
   "execution_count": 10
  },
  {
   "metadata": {},
   "cell_type": "markdown",
   "source": [
    "## [Question]<br>\n",
    "사실 Decision Boundary가 정확히 그어지기 때문에 MLP가 필요한가? 굳이 연산을 한번 더 해서 Representation Space를 바꾸어 주어야할 필요가 있을까?\n",
    "\n",
    "## [Answer]<br>\n",
    "YES! MLP는 선형 경계로 구분할 수 없는 데이터. 가령, XOR문제나 곡선 형태의 경계를 가져야 하는 데이터들에 대해서 representation을 바꾸어 Decistion Boundary를 정확히 그려낼 수 있도록 바꾸는 과정이 hidden layer를 추가함으로써 진행된다."
   ],
   "id": "61182178f804775d"
  },
  {
   "metadata": {
    "ExecuteTime": {
     "end_time": "2024-12-02T05:07:18.578754Z",
     "start_time": "2024-12-02T05:07:16.877208Z"
    }
   },
   "cell_type": "code",
   "source": [
    "import matplotlib.pyplot as plt\n",
    "\n",
    "for i in range(len(y)):\n",
    "    if y[i] == 1:\n",
    "        plt.scatter(x1[i], x2[i], color='blue', label='Class 1' if i == 0 else \"\")\n",
    "    else:\n",
    "        plt.scatter(x1[i], x2[i], color='red', label='Class 0' if i == 0 else \"\")\n",
    "\n",
    "plt.xlabel(\"x1\")\n",
    "plt.ylabel(\"x2\")\n",
    "plt.legend()\n",
    "plt.title(\"Data Visualization\")\n",
    "plt.show()\n"
   ],
   "id": "38bd146a37bf79f",
   "outputs": [
    {
     "data": {
      "text/plain": [
       "<Figure size 640x480 with 1 Axes>"
      ],
      "image/png": "[encoded data removed]"
     },
     "metadata": {},
     "output_type": "display_data"
    }
   ],
   "execution_count": 11
  },
  {
   "metadata": {
    "ExecuteTime": {
     "end_time": "2024-12-02T10:21:57.450480Z",
     "start_time": "2024-12-02T10:21:57.237793Z"
    }
   },
   "cell_type": "code",
   "source": [
    "import numpy as np\n",
    "\n",
    "# 데이터 정의\n",
    "x1 = [\n",
    "    0.8147, 0.9085, 0.127, 0.9134, 0.6324, 0.0975, 0.2785, 0.5469, 0.9575, 0.9649\n",
    "]\n",
    "x2 = [\n",
    "    0.8576, 0.9706, 0.2572, 0.8854, 0.8003, 0.1419, 0.4218, 0.9157, 0.7922, 0.9595\n",
    "]\n",
    "y = [1, 1, 0, 1, 0, 0, 0, 1, 0, 1]\n",
    "\n",
    "# 데이터 준비\n",
    "X = np.column_stack((x1, x2))  # (10x2 행렬)\n",
    "y = np.array(y).reshape(-1, 1)  # (10x1 벡터)\n",
    "m, n = X.shape  # 샘플 수, 피처 수\n",
    "\n",
    "# 가중치 초기화\n",
    "hidden_layer_size = 1  # 은닉층 노드 개수\n",
    "weights_input_hidden = np.random.rand(n, hidden_layer_size) * 0.01  # 입력 -> 은닉층\n",
    "weights_hidden_output = np.random.rand(hidden_layer_size, 1) * 0.01  # 은닉층 -> 출력층\n",
    "bias_hidden = np.zeros((1, hidden_layer_size))  # 은닉층 바이어스\n",
    "bias_output = np.zeros((1, 1))  # 출력층 바이어스\n",
    "\n",
    "# Sigmoid 함수\n",
    "def sigmoid(z):\n",
    "    return 1 / (1 + np.exp(-z))\n",
    "\n",
    "# Sigmoid의 미분\n",
    "def sigmoid_derivative(z):\n",
    "    return z * (1 - z)\n",
    "\n",
    "# MLP 학습 함수\n",
    "def mlp(X, y, lr, epochs):\n",
    "    global weights_input_hidden, weights_hidden_output, bias_hidden, bias_output\n",
    "\n",
    "    for epoch in range(epochs):\n",
    "        # 순전파\n",
    "        hidden_layer_input = np.dot(X, weights_input_hidden) + bias_hidden  # 은닉층 입력\n",
    "        hidden_layer_output = sigmoid(hidden_layer_input)  # 은닉층 출력\n",
    "\n",
    "        output_layer_input = np.dot(hidden_layer_output, weights_hidden_output) + bias_output  # 출력층 입력\n",
    "        y_hat = sigmoid(output_layer_input)  # 출력층 출력\n",
    "\n",
    "        # 역전파\n",
    "        # 출력층 손실 기울기\n",
    "        output_error = y - y_hat  # 출력 오차\n",
    "        output_delta = output_error * sigmoid_derivative(y_hat)\n",
    "\n",
    "        # 은닉층 손실 기울기\n",
    "        hidden_error = np.dot(output_delta, weights_hidden_output.T)  # 은닉층 오차\n",
    "        hidden_delta = hidden_error * sigmoid_derivative(hidden_layer_output)\n",
    "\n",
    "        # 가중치 및 바이어스 업데이트\n",
    "        weights_hidden_output += lr * np.dot(hidden_layer_output.T, output_delta)\n",
    "        weights_input_hidden += lr * np.dot(X.T, hidden_delta)\n",
    "        bias_output += lr * np.sum(output_delta, axis=0, keepdims=True)\n",
    "        bias_hidden += lr * np.sum(hidden_delta, axis=0, keepdims=True)\n",
    "\n",
    "        # 100번째 에포크마다 손실 출력\n",
    "        if epoch % 100 == 0:\n",
    "            loss = np.mean(output_error**2)\n",
    "            print(f\"Epoch {epoch}, Loss: {loss:.4f}\")\n",
    "\n",
    "# 모델 훈련\n",
    "mlp(X, y, lr=0.9, epochs=1200)\n",
    "\n",
    "# 최종 결과 출력\n",
    "hidden_layer_output = sigmoid(np.dot(X, weights_input_hidden) + bias_hidden)\n",
    "y_hat = sigmoid(np.dot(hidden_layer_output, weights_hidden_output) + bias_output)\n",
    "y_pred = (y_hat >= 0.5).astype(int)\n",
    "\n",
    "print(\"\\nPredictions:\", y_pred.ravel())\n",
    "print(\"Actual:\", y.ravel())\n",
    "\n",
    "# 정확도 계산\n",
    "accuracy = np.mean(y_pred == y)\n",
    "print(f\"\\nAccuracy: {accuracy * 100:.2f}%\")\n"
   ],
   "id": "fa744908514e04de",
   "outputs": [
    {
     "name": "stdout",
     "output_type": "stream",
     "text": [
      "Epoch 0, Loss: 0.2500\n",
      "Epoch 100, Loss: 0.1627\n",
      "Epoch 200, Loss: 0.0987\n",
      "Epoch 300, Loss: 0.1048\n",
      "Epoch 400, Loss: 0.1512\n",
      "Epoch 500, Loss: 0.0984\n",
      "Epoch 600, Loss: 0.0679\n",
      "Epoch 700, Loss: 0.0294\n",
      "Epoch 800, Loss: 0.0762\n",
      "Epoch 900, Loss: 0.0841\n",
      "Epoch 1000, Loss: 0.0676\n",
      "Epoch 1100, Loss: 0.0493\n",
      "\n",
      "Predictions: [1 1 0 1 0 0 0 1 0 1]\n",
      "Actual: [1 1 0 1 0 0 0 1 0 1]\n",
      "\n",
      "Accuracy: 100.00%\n"
     ]
    }
   ],
   "execution_count": 34
  },
  {
   "metadata": {
    "ExecuteTime": {
     "end_time": "2024-12-02T10:20:52.652808Z",
     "start_time": "2024-12-02T10:20:52.486282Z"
    }
   },
   "cell_type": "code",
   "source": [
    "from sklearn.metrics import confusion_matrix, ConfusionMatrixDisplay\n",
    "\n",
    "# Confusion Matrix 계산\n",
    "cm = confusion_matrix(y, y_pred)\n",
    "\n",
    "# Confusion Matrix 출력\n",
    "print(\"\\nConfusion Matrix:\")\n",
    "print(cm)\n",
    "\n",
    "# 시각화\n",
    "disp = ConfusionMatrixDisplay(confusion_matrix=cm, display_labels=[0, 1])\n",
    "disp.plot(cmap='Blues')\n",
    "disp.ax_.set_title(\"Confusion Matrix\")\n",
    "disp.ax_.set_xlabel(\"Predicted Labels\")\n",
    "disp.ax_.set_ylabel(\"True Labels\")\n",
    "disp.ax_.grid(False)  # 불필요한 그리드 제거\n",
    "plt.show()\n"
   ],
   "id": "5c7f92add9fabe66",
   "outputs": [
    {
     "name": "stdout",
     "output_type": "stream",
     "text": [
      "\n",
      "Confusion Matrix:\n",
      "[[5 0]\n",
      " [0 5]]\n"
     ]
    },
    {
     "data": {
      "text/plain": [
       "<Figure size 640x480 with 2 Axes>"
      ],
      "image/png": "[encoded data removed]"
     },
     "metadata": {},
     "output_type": "display_data"
    }
   ],
   "execution_count": 27
  },
  {
   "metadata": {},
   "cell_type": "code",
   "outputs": [],
   "execution_count": null,
   "source": "",
   "id": "bdf888aa14273565"
  }
 ],
 "metadata": {
  "kernelspec": {
   "display_name": "Python 3",
   "language": "python",
   "name": "python3"
  },
  "language_info": {
   "codemirror_mode": {
    "name": "ipython",
    "version": 2
   },
   "file_extension": ".py",
   "mimetype": "text/x-python",
   "name": "python",
   "nbconvert_exporter": "python",
   "pygments_lexer": "ipython2",
   "version": "2.7.6"
  }
 },
 "nbformat": 4,
 "nbformat_minor": 5
}
